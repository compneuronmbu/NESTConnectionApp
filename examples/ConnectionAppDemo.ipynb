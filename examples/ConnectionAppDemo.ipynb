{
 "cells": [
  {
   "cell_type": "markdown",
   "metadata": {},
   "source": [
    "# NEST Connection App\n",
    "\n",
    "This notebook will show examples on how to use the NEST Connection App.\n",
    "\n",
    "We start by importing `PointsSelector` and `NotebookGUI` from the App. The `PointsSelector` class will creates the plot and handles the selection of points. There are currently two types of user interfaces, one using PyQt5, and one using Notebook. But, as this is a notebook, we will use the latter."
   ]
  },
  {
   "cell_type": "code",
   "execution_count": null,
   "metadata": {
    "collapsed": false
   },
   "outputs": [],
   "source": [
    "%matplotlib notebook\n",
    "import matplotlib.pyplot as plt\n",
    "\n",
    "from NESTConnectionApp.selector import PointsSelector\n",
    "from NESTConnectionApp.GUI.nb_gui import NotebookGUI"
   ]
  },
  {
   "cell_type": "markdown",
   "metadata": {},
   "source": [
    "## Brunel example\n",
    "The first example we will look at is the Brunel example. This system consists of one excitatory layer, one inhibitory layer, one input, spike detectors, and a voltmeter. The input is a Poisson generator and the nodes in the network are `iaf_psc_alpha` neurons.\n",
    "\n",
    "The layer and model specifications are created with the `make_layers` function from the create_brunel example file. The specifications are sent to the `PointsSelector` class during initialization. Then the plots and buttons are created with the function `PointsSelector.select_in_layers()`, and we can start selecting connections. "
   ]
  },
  {
   "cell_type": "code",
   "execution_count": null,
   "metadata": {
    "collapsed": false,
    "scrolled": false
   },
   "outputs": [],
   "source": [
    "import define_brunel as brunel\n",
    "\n",
    "nodesize = 2\n",
    "layers, models, syn_models = brunel.make_layers()\n",
    "no_layers = len(layers)\n",
    "\n",
    "models += syn_models\n",
    "\n",
    "connections = brunel.make_connections()\n",
    "\n",
    "fig = plt.figure()\n",
    "points_selector = PointsSelector(layers[:no_layers], models=models, syn_models=syn_models, nodesize=nodesize)\n",
    "points_selector.run(fig=fig, interface=NotebookGUI)"
   ]
  },
  {
   "cell_type": "markdown",
   "metadata": {},
   "source": [
    "When the selection has been made, they can be saved using the \"save\" button. Nest we get the selections from the `PointsSelector` class by calling `get_selections()`."
   ]
  },
  {
   "cell_type": "code",
   "execution_count": null,
   "metadata": {
    "collapsed": false
   },
   "outputs": [],
   "source": [
    "selections = points_selector.get_selections()\n",
    "selections  # somewhat pretty printing"
   ]
  },
  {
   "cell_type": "markdown",
   "metadata": {},
   "source": [
    "We are now ready to make the connections in NEST. The models for the system can be created in advance, or they can be created in the class where we make the connections. Here we will do the latter. \n",
    "\n",
    "The class handling the connection to NEST is `LayerSelectAndConnect`. At initialization it takes in the specifications of layers and models, like `PointsSelector`, and creates them in NEST. After initialization, we make the connections with the function `connect_layer`, sending in the selected connections we extracted earlier."
   ]
  },
  {
   "cell_type": "code",
   "execution_count": null,
   "metadata": {
    "collapsed": false,
    "scrolled": false
   },
   "outputs": [],
   "source": [
    "import nest\n",
    "from NESTConnectionApp.nest_interface import NESTInterface\n",
    "\n",
    "nest.ResetKernel()\n",
    "# Creating models in LayerSelectAndConnect\n",
    "nest_interface = NESTInterface(layers, models)\n",
    "nest_interface.connect(selections, connections)"
   ]
  },
  {
   "cell_type": "markdown",
   "metadata": {},
   "source": [
    "With connections made, we can simulate the system, and get plots of the spiketrain and membrane potentials. Note that while we have set `print_time` to `True`, it outputs only to the terminal."
   ]
  },
  {
   "cell_type": "code",
   "execution_count": null,
   "metadata": {
    "collapsed": false,
    "scrolled": false
   },
   "outputs": [],
   "source": [
    "nest_interface.simulate(20, make_plot=True, print_time=True)"
   ]
  },
  {
   "cell_type": "markdown",
   "metadata": {},
   "source": [
    "## Hill-Tononi example\n",
    "In the next example we will use the Hill-Tononi model. We now have one input layer, using customized retina nodes. The layers in the network are as specified in the paper by Hill and Tononi (Hill and Tononi, 2005).\n",
    "\n",
    "As in the Brunel example we use `make_layers()`, but now with some additional parameters. Like before we send the specifications of layers and models to the `PointsSelector` class, and start the selection process with the function `select_in_layers()`."
   ]
  },
  {
   "cell_type": "code",
   "execution_count": null,
   "metadata": {
    "collapsed": false
   },
   "outputs": [],
   "source": [
    "import define_hill_tononi as ht\n",
    "\n",
    "Np = 10   # Number of rows and columns in primary nodes\n",
    "Ns = 10   # Number of rows and columns in secondary nodes\n",
    "\n",
    "layers, models, syn_models = ht.make_layers()\n",
    "\n",
    "nodesize = 10\n",
    "no_layers = len(layers)\n",
    "\n",
    "models += syn_models\n",
    "\n",
    "connections = ht.make_connections()\n",
    "\n",
    "fig = plt.figure()\n",
    "points_selector = PointsSelector(layers[:no_layers], models=models, syn_models=syn_models, nodesize=nodesize)\n",
    "points_selector.run(fig=fig, interface=NotebookGUI)"
   ]
  },
  {
   "cell_type": "markdown",
   "metadata": {},
   "source": [
    "After selecting the areas we want to connect, we extract them and make the connections with the `LayerSelectAndConnect` class. Here, for demonstration, we choose to create the models in advance."
   ]
  },
  {
   "cell_type": "code",
   "execution_count": null,
   "metadata": {
    "collapsed": false,
    "scrolled": false
   },
   "outputs": [],
   "source": [
    "selections = points_selector.get_selections()\n",
    "\n",
    "nest.ResetKernel()\n",
    "\n",
    "# Models are created in advance\n",
    "for m in models:\n",
    "    nest.CopyModel(m[0], m[1], m[2])\n",
    "\n",
    "# Now we no longer have to send in the model specifications\n",
    "nest_interface = NESTInterface(layers)\n",
    "nest_interface.connect(selections, connections)"
   ]
  },
  {
   "cell_type": "markdown",
   "metadata": {},
   "source": [
    "We can now run the simulation."
   ]
  },
  {
   "cell_type": "code",
   "execution_count": null,
   "metadata": {
    "collapsed": false,
    "scrolled": false
   },
   "outputs": [],
   "source": [
    "nest_interface.simulate(10, make_plot=True, print_time=True)"
   ]
  },
  {
   "cell_type": "markdown",
   "metadata": {},
   "source": [
    "## Randomly placed nodes\n",
    "As a final example we look at a layer with randomly placed nodes. As in the Brunel and Hill-Tononi examples we create layer and model specifications and send them to the `PointsSelector` class, which plots the layers."
   ]
  },
  {
   "cell_type": "code",
   "execution_count": null,
   "metadata": {
    "collapsed": false,
    "scrolled": false
   },
   "outputs": [],
   "source": [
    "import define_brunel_random as brunel_random\n",
    "\n",
    "nest.ResetKernel()\n",
    "\n",
    "layers, models, syn_models = brunel_random.make_layers()\n",
    "\n",
    "nodesize = 10\n",
    "no_layers = len(layers)\n",
    "\n",
    "models += syn_models\n",
    "\n",
    "connections = brunel_random.make_connections()\n",
    "\n",
    "fig = plt.figure()\n",
    "points_selector = PointsSelector(layers[:no_layers], models=models, syn_models=syn_models, nodesize=nodesize)\n",
    "points_selector.run(fig=fig, interface=NotebookGUI)"
   ]
  },
  {
   "cell_type": "markdown",
   "metadata": {},
   "source": [
    "Selecting randomly placed nodes is just as easy as nodes in a grid. Next we get the selections, make the connections and simulate the system."
   ]
  },
  {
   "cell_type": "code",
   "execution_count": null,
   "metadata": {
    "collapsed": false
   },
   "outputs": [],
   "source": [
    "selections = points_selector.get_selections()\n",
    "nest.ResetKernel()\n",
    "\n",
    "nest_interface = NESTInterface(layers, models)\n",
    "nest_interface.connect(selections, connections)\n",
    "nest_interface.simulate(10, make_plot=True, print_time=True)"
   ]
  },
  {
   "cell_type": "markdown",
   "metadata": {},
   "source": [
    "## References\n",
    "(Hill and Tononi, 2005 ) Hill, S. and Tononi, G., 2005. Modeling sleep and wakefulness in the thalamocortical system. Journal of neurophysiology, 93(3), pp.1671-1698."
   ]
  },
  {
   "cell_type": "code",
   "execution_count": null,
   "metadata": {
    "collapsed": true
   },
   "outputs": [],
   "source": []
  }
 ],
 "metadata": {
  "anaconda-cloud": {},
  "kernelspec": {
   "display_name": "Python 2",
   "language": "python",
   "name": "python2"
  },
  "language_info": {
   "codemirror_mode": {
    "name": "ipython",
    "version": 2
   },
   "file_extension": ".py",
   "mimetype": "text/x-python",
   "name": "python",
   "nbconvert_exporter": "python",
   "pygments_lexer": "ipython2",
   "version": "2.7.13"
  },
  "widgets": {
   "state": {
    "55bdd48c373c4e299a44fcac4acc9b2f": {
     "views": [
      {
       "cell_index": 11
      }
     ]
    },
    "a2176f45fd0a4bdfa7953237d4c998fc": {
     "views": [
      {
       "cell_index": 3
      }
     ]
    }
   },
   "version": "1.2.0"
  }
 },
 "nbformat": 4,
 "nbformat_minor": 2
}
